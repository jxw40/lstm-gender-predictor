{
 "cells": [
  {
   "cell_type": "markdown",
   "metadata": {},
   "source": [
    "### 这里，使用 set 每次运行不一致，导致load_model为初始状态，前面训练无效，需要修改\n",
    "\n",
    "https://machinelearningmastery.com/check-point-deep-learning-models-keras/\n",
    "\n",
    "https://github.com/keras-team/keras/issues/2378"
   ]
  },
  {
   "cell_type": "code",
   "execution_count": 19,
   "metadata": {},
   "outputs": [
    {
     "name": "stdout",
     "output_type": "stream",
     "text": [
      "['j', 'p', 'n', 'm', 'f', 'a', 'v', 'o', 'd', 'r', 'b', 's']\n",
      "['a', 'b', 'd', 'f', 'j', 'm', 'n', 'o', 'p', 'r', 's', 'v']\n"
     ]
    }
   ],
   "source": [
    "t_names = ['sam', 'proba']\n",
    "p_names = ['nsjvn', 'fnosfd']\n",
    "j = list(set(\"\".join(t_names) + \"\".join(p_names)))\n",
    "print(j)\n",
    "j.sort()\n",
    "print(j)"
   ]
  },
  {
   "cell_type": "code",
   "execution_count": 10,
   "metadata": {
    "collapsed": true
   },
   "outputs": [],
   "source": [
    "#import tensorflow as tf\n",
    "from keras.models import Sequential\n",
    "from keras import layers\n",
    "from keras.models import model_from_json\n",
    "from keras.models import load_model\n",
    "from keras.callbacks import ModelCheckpoint\n",
    "\n",
    "import numpy as np\n",
    "import sys\n",
    "import os\n",
    "\n",
    "#from keras.backend import manual_variable_initialization \n",
    "#manual_variable_initialization(True)\n",
    "\n",
    "from keras import backend as K\n",
    "K.clear_session()\n",
    "\n",
    "#import keras\n",
    "#keras.__version__\n",
    "np.random.seed(42)\n",
    "\n",
    "def preprocess():\n",
    "    print(\"loading data...\")\n",
    "    with open(\"male.txt\") as f:\n",
    "        m_names = f.read().splitlines()\n",
    "    \n",
    "    with open(\"female.txt\") as f:\n",
    "        f_names = f.read().splitlines()\n",
    "        \n",
    "    fs = set(f_names)\n",
    "    ms = set(m_names)\n",
    "    bi_names = fs & ms  # unisex names \n",
    "    \n",
    "    m_names = ms - bi_names\n",
    "    #print(len(m_names))\n",
    "    \n",
    "    f_names = fs - bi_names\n",
    "    #print(len(f_names))\n",
    "    \n",
    "    #bi_names = [bi_name.lower() for bi_name in bi_names]\n",
    "    m_names = [m_name.lower() for m_name in m_names]\n",
    "    f_names = [f_name.lower() for f_name in f_names]\n",
    "\n",
    "    # only male and only female names\n",
    "    n_total = len(m_names) + len(f_names)\n",
    "    \n",
    "    max_len = max(len(max(m_names , key=len)), len(max(f_names , key=len)))\n",
    "    \n",
    "    chars = set(\"\".join(m_names) + \"\".join(f_names))\n",
    "    n_chars = len(chars)\n",
    "    \n",
    "    char_indices = dict((c, i) for i, c in enumerate(chars))\n",
    "    indices_char = dict((i, c) for i, c in enumerate(chars))\n",
    "    \n",
    "    print('Corpus...')\n",
    "    print(\"total entries: \" , n_total)\n",
    "    print(\"max_len: \" , max_len)\n",
    "    print('total chars:', n_chars)\n",
    "    \n",
    "    X_m = name2vec(m_names, len(m_names), max_len, n_chars, char_indices)\n",
    "    X_f = name2vec(f_names, len(f_names), max_len, n_chars, char_indices)\n",
    "    \n",
    "    y_m = np.ones((len(m_names) , 1))\n",
    "    y_f = np.zeros((len(f_names) , 1))\n",
    "    \n",
    "    X = np.concatenate((X_m, X_f), axis=0)\n",
    "    y = np.concatenate((y_m, y_f), axis=0)\n",
    "\n",
    "    return X, y, max_len, n_chars, char_indices\n",
    "\n",
    "\n",
    "def name2vec(names, n_instances, max_len, n_chars, char_indices):\n",
    "    X = np.zeros((n_instances, max_len, n_chars))\n",
    "    for i, name in enumerate(names):\n",
    "        for t, char in enumerate(name):\n",
    "            X[i, t, char_indices[char]] = 1.0\n",
    "    return X\n",
    "\n",
    "\n",
    "def train_test_split(X, y, n_train=6000):\n",
    "    n_total = X.shape[0]\n",
    "    idx = np.random.permutation(n_total)\n",
    "    \n",
    "    X_train = X[idx][:n_train]\n",
    "    y_train = y[idx][:n_train]\n",
    "    \n",
    "    X_test = X[idx][n_train:]\n",
    "    y_test = y[idx][n_train:]\n",
    "\n",
    "    return X_train, y_train, X_test, y_test\n",
    "\n",
    "\n",
    "def build(max_len, n_chars):\n",
    "\n",
    "    print('Build model...')\n",
    "    model = Sequential()\n",
    "    model.add(layers.LSTM(128, return_sequences=True, dropout=0.2, input_shape=(max_len, n_chars)))\n",
    "    #model.add(layers.Dropout(0.2))\n",
    "    model.add(layers.LSTM(128, return_sequences=False, dropout=0.2))\n",
    "    #model.add(layers.Dropout(0.2))\n",
    "    model.add(layers.Dense(1, activation='sigmoid'))\n",
    "    \n",
    "    return model\n",
    "\n",
    "\n",
    "'''\n",
    "history = model.fit(X_train, y_train,\n",
    "                    epochs=n_epochs,\n",
    "                    batch_size=128,\n",
    "                    validation_split=0.2)\n",
    "'''\n",
    "\n",
    "'''\n",
    "from matplotlib import pyplot as plt\n",
    "\n",
    "acc = history.history['acc']\n",
    "val_acc = history.history['val_acc']\n",
    "loss = history.history['loss']\n",
    "val_loss = history.history['val_loss']\n",
    "\n",
    "epochs = range(len(acc))\n",
    "\n",
    "plt.plot(epochs, acc, 'bo', label='Training acc')\n",
    "plt.plot(epochs, val_acc, 'b', label='Validation acc')\n",
    "plt.title('Training and validation accuracy')\n",
    "plt.legend()\n",
    "\n",
    "plt.figure()\n",
    "\n",
    "plt.plot(epochs, loss, 'bo', label='Training loss')\n",
    "plt.plot(epochs, val_loss, 'b', label='Validation loss')\n",
    "plt.title('Training and validation loss')\n",
    "plt.legend()\n",
    "\n",
    "plt.show()\n",
    "'''\n",
    "def predict_gender(names, pred):\n",
    "    print('Model predict...')\n",
    "    p_male = 0\n",
    "    p_female = 0\n",
    "    for i in range(pred.shape[0]):\n",
    "        if pred[i] > 0.5:\n",
    "            p_male += 1\n",
    "#print('%s is Male'%names[i])\n",
    "        else:\n",
    "            p_female += 1\n",
    "#print('%s is Female'%names[i])\n",
    "    print(p_male, p_female)\n"
   ]
  },
  {
   "cell_type": "code",
   "execution_count": 11,
   "metadata": {},
   "outputs": [
    {
     "name": "stdout",
     "output_type": "stream",
     "text": [
      "loading data...\n",
      "Corpus...\n",
      "total entries:  7214\n",
      "max_len:  15\n",
      "total chars: 29\n",
      "Build model...\n",
      "Train on 4800 samples, validate on 1200 samples\n",
      "Epoch 1/5\n",
      "4800/4800 [==============================] - 7s 1ms/step - loss: 0.6043 - acc: 0.6773 - val_loss: 0.5285 - val_acc: 0.7442\n",
      "Epoch 2/5\n",
      "4800/4800 [==============================] - 6s 1ms/step - loss: 0.5381 - acc: 0.7342 - val_loss: 0.4981 - val_acc: 0.7542\n",
      "Epoch 3/5\n",
      "4800/4800 [==============================] - 6s 1ms/step - loss: 0.5287 - acc: 0.7400 - val_loss: 0.5138 - val_acc: 0.7292\n",
      "Epoch 4/5\n",
      "4800/4800 [==============================] - 6s 1ms/step - loss: 0.5146 - acc: 0.7467 - val_loss: 0.5232 - val_acc: 0.7300\n",
      "Epoch 5/5\n",
      "4800/4800 [==============================] - 6s 1ms/step - loss: 0.5180 - acc: 0.7496 - val_loss: 0.4875 - val_acc: 0.7567\n",
      "after training\n",
      "1214/1214 [==============================] - 1s 417us/step\n",
      "test : [0.4699836440593053, 0.7883031297554883]\n"
     ]
    }
   ],
   "source": [
    "X, y, max_len, n_chars, char_indices = preprocess()\n",
    "X_train, y_train, X_test, y_test = train_test_split(X, y)\n",
    "\n",
    "#filepath=\"weights.best.hdf5\"\n",
    "filepath = 'weights.h5'\n",
    "#filepath = 'gender_model_weights.h5'\n",
    "model = build(max_len, n_chars)\n",
    "\n",
    "model.compile(optimizer='rmsprop',\n",
    "                  loss='binary_crossentropy',\n",
    "                  metrics=['accuracy'])\n",
    "n_epochs = 5\n",
    "history = model.fit(X_train, y_train,\n",
    "                        epochs=n_epochs,\n",
    "                        batch_size=64,\n",
    "                        validation_split=0.2)\n",
    "print('after training')\n",
    "results = model.evaluate(X_test, y_test)\n",
    "print('test :',results)"
   ]
  },
  {
   "cell_type": "code",
   "execution_count": 12,
   "metadata": {},
   "outputs": [
    {
     "name": "stdout",
     "output_type": "stream",
     "text": [
      "Model predict...\n",
      "283 931\n"
     ]
    }
   ],
   "source": [
    "origin_names = []\n",
    "pred = model.predict(X_test)\n",
    "predict_gender(origin_names, pred)"
   ]
  },
  {
   "cell_type": "code",
   "execution_count": 13,
   "metadata": {
    "collapsed": true
   },
   "outputs": [],
   "source": [
    "model.save(filepath)\n",
    "#model.save(filepath)\n",
    "del model"
   ]
  },
  {
   "cell_type": "code",
   "execution_count": 14,
   "metadata": {
    "collapsed": true
   },
   "outputs": [],
   "source": [
    "#model"
   ]
  },
  {
   "cell_type": "code",
   "execution_count": 15,
   "metadata": {},
   "outputs": [
    {
     "name": "stdout",
     "output_type": "stream",
     "text": [
      "successfully retriving model...\n"
     ]
    }
   ],
   "source": [
    "model = load_model(filepath)\n",
    "print('successfully retriving model...')"
   ]
  },
  {
   "cell_type": "code",
   "execution_count": 17,
   "metadata": {},
   "outputs": [
    {
     "name": "stdout",
     "output_type": "stream",
     "text": [
      "1214/1214 [==============================] - 1s 455us/step\n",
      "test : [0.4699836440593053, 0.7883031297554883]\n"
     ]
    }
   ],
   "source": [
    "results = model.evaluate(X_test, y_test)\n",
    "print('test :',results)\n"
   ]
  },
  {
   "cell_type": "code",
   "execution_count": 18,
   "metadata": {},
   "outputs": [
    {
     "data": {
      "text/plain": [
       "array([804])"
      ]
     },
     "execution_count": 18,
     "metadata": {},
     "output_type": "execute_result"
    }
   ],
   "source": [
    "sum(y_test == 0.0)"
   ]
  },
  {
   "cell_type": "code",
   "execution_count": null,
   "metadata": {
    "collapsed": true
   },
   "outputs": [],
   "source": []
  }
 ],
 "metadata": {
  "kernelspec": {
   "display_name": "Python 3",
   "language": "python",
   "name": "python3"
  },
  "language_info": {
   "codemirror_mode": {
    "name": "ipython",
    "version": 3
   },
   "file_extension": ".py",
   "mimetype": "text/x-python",
   "name": "python",
   "nbconvert_exporter": "python",
   "pygments_lexer": "ipython3",
   "version": "3.5.4"
  }
 },
 "nbformat": 4,
 "nbformat_minor": 2
}
