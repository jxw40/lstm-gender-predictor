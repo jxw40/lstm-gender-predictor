{
 "cells": [
  {
   "cell_type": "code",
   "execution_count": 1,
   "metadata": {},
   "outputs": [
    {
     "name": "stderr",
     "output_type": "stream",
     "text": [
      "Using TensorFlow backend.\n"
     ]
    }
   ],
   "source": [
    "from keras.models import Sequential\n",
    "from keras import layers\n",
    "from keras.models import model_from_json\n",
    "from keras.models import load_model\n",
    "from keras.callbacks import ModelCheckpoint\n",
    "\n",
    "import numpy as np\n",
    "import sys\n",
    "import os\n",
    "\n",
    "\n",
    "from keras import backend as K\n",
    "K.clear_session()\n",
    "\n",
    "#import keras\n",
    "#keras.__version__\n",
    "np.random.seed(42)\n",
    "\n",
    "def preprocess():\n",
    "    print(\"loading data...\")\n",
    "    with open(\"male.txt\") as f:\n",
    "        m_names = f.read().splitlines()\n",
    "    \n",
    "    with open(\"female.txt\") as f:\n",
    "        f_names = f.read().splitlines()\n",
    "        \n",
    "    bi_names = [] # unisex names \n",
    "    for f_name in f_names:\n",
    "        if f_name in m_names:\n",
    "            bi_names.append(f_name)\n",
    "    \n",
    "    m_names = [m_name.lower() for m_name in m_names if not m_name in bi_names]\n",
    "    f_names = [f_name.lower() for f_name in f_names if not f_name in bi_names]\n",
    "    \n",
    "\n",
    "    # only male and only female names\n",
    "    n_total = len(m_names) + len(f_names)\n",
    "    \n",
    "    max_len = max(len(max(m_names , key=len)), len(max(f_names , key=len)))\n",
    "    \n",
    "    chars = list(set(\"\".join(m_names) + \"\".join(f_names)))\n",
    "    chars.sort()\n",
    "\n",
    "    n_chars = len(chars)\n",
    "    \n",
    "    char_indices = dict((c, i) for i, c in enumerate(chars))\n",
    "    indices_char = dict((i, c) for i, c in enumerate(chars))\n",
    "    \n",
    "    print('Corpus...')\n",
    "    print(\"total entries: \" , n_total)\n",
    "    print(\"max_len: \" , max_len)\n",
    "    print('total chars:', n_chars)\n",
    "    \n",
    "    X_m = name2vec(m_names, len(m_names), max_len, n_chars, char_indices)\n",
    "    X_f = name2vec(f_names, len(f_names), max_len, n_chars, char_indices)\n",
    "    \n",
    "    y_m = np.ones((len(m_names) , 1))\n",
    "    y_f = np.zeros((len(f_names) , 1))\n",
    "    \n",
    "    X = np.concatenate((X_m, X_f), axis=0)\n",
    "    y = np.concatenate((y_m, y_f), axis=0)\n",
    "\n",
    "    return X, y, max_len, n_chars, char_indices, chars\n",
    "\n",
    "\n",
    "def name2vec(names, n_instances, max_len, n_chars, char_indices):\n",
    "    X = np.zeros((n_instances, max_len, n_chars))\n",
    "    for i, name in enumerate(names):\n",
    "        for t, char in enumerate(name):\n",
    "            X[i, t, char_indices[char]] = 1.0\n",
    "    return X\n",
    "\n",
    "\n",
    "def train_test_split(X, y, n_train=6000):\n",
    "    n_total = X.shape[0]\n",
    "    idx = np.random.permutation(n_total)\n",
    "    \n",
    "    X_train = X[idx][:n_train]\n",
    "    y_train = y[idx][:n_train]\n",
    "    \n",
    "    X_test = X[idx][n_train:]\n",
    "    y_test = y[idx][n_train:]\n",
    "\n",
    "    return X_train, y_train, X_test, y_test\n",
    "\n",
    "\n",
    "def build(max_len, n_chars):\n",
    "\n",
    "    print('Build model...')\n",
    "    model = Sequential()\n",
    "    model.add(layers.LSTM(128, return_sequences=True, dropout=0.2, input_shape=(max_len, n_chars)))\n",
    "    #model.add(layers.Dropout(0.2))\n",
    "    model.add(layers.LSTM(128, return_sequences=False, dropout=0.2))\n",
    "    #model.add(layers.Dropout(0.2))\n",
    "    model.add(layers.Dense(1, activation='sigmoid'))\n",
    "    \n",
    "    return model\n",
    "\n",
    "\n",
    "'''\n",
    "history = model.fit(X_train, y_train,\n",
    "                    epochs=n_epochs,\n",
    "                    batch_size=128,\n",
    "                    validation_split=0.2)\n",
    "'''\n",
    "\n",
    "'''\n",
    "from matplotlib import pyplot as plt\n",
    "\n",
    "acc = history.history['acc']\n",
    "val_acc = history.history['val_acc']\n",
    "loss = history.history['loss']\n",
    "val_loss = history.history['val_loss']\n",
    "\n",
    "epochs = range(len(acc))\n",
    "\n",
    "plt.plot(epochs, acc, 'bo', label='Training acc')\n",
    "plt.plot(epochs, val_acc, 'b', label='Validation acc')\n",
    "plt.title('Training and validation accuracy')\n",
    "plt.legend()\n",
    "\n",
    "plt.figure()\n",
    "\n",
    "plt.plot(epochs, loss, 'bo', label='Training loss')\n",
    "plt.plot(epochs, val_loss, 'b', label='Validation loss')\n",
    "plt.title('Training and validation loss')\n",
    "plt.legend()\n",
    "\n",
    "plt.show()\n",
    "'''\n",
    "def predict_gender(names, pred):\n",
    "    print('Model predict...')\n",
    "    p_male = 0\n",
    "    p_female = 0\n",
    "    for i in range(pred.shape[0]):\n",
    "        if pred[i] > 0.5:\n",
    "            p_male += 1\n",
    "            print('%20s is Male'%names[i])\n",
    "        else:\n",
    "            p_female += 1\n",
    "            print('%20s is Female'%names[i])\n",
    "    print('predicted   male: ', p_male)\n",
    "    print('predicted female: ', p_female)\n"
   ]
  },
  {
   "cell_type": "code",
   "execution_count": 2,
   "metadata": {},
   "outputs": [
    {
     "name": "stdout",
     "output_type": "stream",
     "text": [
      "loading data...\n",
      "Corpus...\n",
      "total entries:  7214\n",
      "max_len:  15\n",
      "total chars: 29\n",
      "Build model...\n",
      "successfully retriving model...\n",
      "Train on 4800 samples, validate on 1200 samples\n",
      "Epoch 1/5\n",
      "4800/4800 [==============================] - 7s 1ms/step - loss: 0.5605 - acc: 0.7102 - val_loss: 0.5081 - val_acc: 0.7558\n",
      "Epoch 2/5\n",
      "4800/4800 [==============================] - 6s 1ms/step - loss: 0.5179 - acc: 0.7415 - val_loss: 0.4788 - val_acc: 0.7742\n",
      "Epoch 3/5\n",
      "4800/4800 [==============================] - 6s 1ms/step - loss: 0.5171 - acc: 0.7394 - val_loss: 0.4825 - val_acc: 0.7858\n",
      "Epoch 4/5\n",
      "4800/4800 [==============================] - 6s 1ms/step - loss: 0.4984 - acc: 0.7544 - val_loss: 0.4631 - val_acc: 0.7758\n",
      "Epoch 5/5\n",
      "4800/4800 [==============================] - 6s 1ms/step - loss: 0.4900 - acc: 0.7669 - val_loss: 0.4538 - val_acc: 0.7875\n",
      "after training\n",
      "1214/1214 [==============================] - 0s 410us/step\n",
      "test : [0.44297088621279357, 0.8072487646115474]\n"
     ]
    }
   ],
   "source": [
    "X, y, max_len, n_chars, char_indices, chars = preprocess()\n",
    "\n",
    "X_train, y_train, X_test, y_test = train_test_split(X, y)\n",
    "\n",
    "filepath = 'gender_model_weights.h5'\n",
    "\n",
    "model = build(max_len, n_chars)\n",
    "   \n",
    "if os.path.exists(filepath):\n",
    "    model = load_model(filepath)\n",
    "    print('successfully retriving model...')\n",
    "\n",
    "model.compile(optimizer='rmsprop',\n",
    "              loss='binary_crossentropy',\n",
    "              metrics=['accuracy'])\n",
    "n_epochs = 5\n",
    "history = model.fit(X_train, y_train,\n",
    "                    epochs=n_epochs,\n",
    "                    batch_size=64,\n",
    "                    validation_split=0.2)\n",
    "\n",
    "print('after training')\n",
    "results = model.evaluate(X_test, y_test)\n",
    "print('test :',results)"
   ]
  },
  {
   "cell_type": "code",
   "execution_count": 3,
   "metadata": {
    "collapsed": true
   },
   "outputs": [],
   "source": [
    "model.save(filepath)\n",
    "del model"
   ]
  },
  {
   "cell_type": "code",
   "execution_count": 4,
   "metadata": {},
   "outputs": [
    {
     "name": "stdout",
     "output_type": "stream",
     "text": [
      "successfully retriving model...\n"
     ]
    }
   ],
   "source": [
    "model = load_model(filepath)\n",
    "print('successfully retriving model...')"
   ]
  },
  {
   "cell_type": "code",
   "execution_count": 5,
   "metadata": {},
   "outputs": [
    {
     "name": "stdout",
     "output_type": "stream",
     "text": [
      "1214/1214 [==============================] - 1s 663us/step\n",
      "checking test : [0.44297088621279357, 0.8072487646115474]\n"
     ]
    }
   ],
   "source": [
    "results = model.evaluate(X_test, y_test)\n",
    "print('checking test :',results)"
   ]
  },
  {
   "cell_type": "code",
   "execution_count": 6,
   "metadata": {},
   "outputs": [
    {
     "name": "stdout",
     "output_type": "stream",
     "text": [
      "Model predict...\n",
      "              Adrian is Female\n",
      "              Adrick is Male\n",
      "              Adrien is Female\n",
      "           Agamemnon is Male\n",
      "           Aguinaldo is Male\n",
      "              Aguste is Male\n",
      "             Agustin is Female\n",
      "              Aharon is Male\n",
      "               Ahmad is Male\n",
      "               Ahmed is Male\n",
      "               Ahmet is Male\n",
      "                Ajai is Female\n",
      "                Ajay is Female\n",
      "                  Al is Female\n",
      "                Alaa is Female\n",
      "               Alain is Female\n",
      "                Alan is Female\n",
      "            Alasdair is Female\n",
      "            Alastair is Female\n",
      "            Albatros is Male\n",
      "              Albert is Male\n",
      "             Alberto is Male\n",
      "            Albrecht is Male\n",
      "predicted   male:  12\n",
      "predicted female:  11\n"
     ]
    }
   ],
   "source": [
    "my_file_path = 'my_name2.txt'\n",
    "with open(my_file_path) as f:\n",
    "    origin_names = f.read().splitlines()\n",
    "    input_names = [input_name.lower() for input_name in origin_names]\n",
    "\n",
    "X_input = name2vec(input_names,  len(input_names), max_len, n_chars, char_indices)\n",
    "\n",
    "pred = model.predict(X_input)\n",
    "predict_gender(origin_names, pred)"
   ]
  },
  {
   "cell_type": "code",
   "execution_count": 8,
   "metadata": {},
   "outputs": [
    {
     "name": "stdout",
     "output_type": "stream",
     "text": [
      "6000\n"
     ]
    }
   ],
   "source": [
    "pred_train = model.predict(X_train)\n",
    "pred_label = [1.0 if p > 0.5 else 0.0 for p in pred_train]\n",
    "print(len(pred_label))"
   ]
  },
  {
   "cell_type": "code",
   "execution_count": 12,
   "metadata": {
    "collapsed": true
   },
   "outputs": [],
   "source": [
    "true_label = y_train"
   ]
  },
  {
   "cell_type": "code",
   "execution_count": 10,
   "metadata": {},
   "outputs": [],
   "source": [
    "import matplotlib.pyplot as plt\n",
    "%matplotlib inline\n",
    "def plot_sonfusion_matrix(cm, classes, normalize=False, title='Confusion matrix',cmap=plt.cm.Blues):\n",
    "    plt.imshow(cm, interpolation='nearest', cmap=cmap)\n",
    "    plt.title(title)\n",
    "    plt.colorbar()\n",
    "    tick_marks = np.arange(len(classes))\n",
    "    plt.xticks(tick_marks, classes, rotation=45)\n",
    "    plt.yticks(tick_marks, classes)\n",
    "    if normalize:\n",
    "        cm = cm.astype('float')/cm.sum(axis=1)[:,np.newaxis]\n",
    "    thresh = cm.max()/2.0\n",
    "    for i,j in itertools.product(range(cm.shape[0]), range(cm.shape[1])):\n",
    "        plt.text(j,i,cm[i,j], horizontalalignment='center',color='white' if cm[i,j] > thresh else 'black')\n",
    "    plt.tight_layout()\n",
    "    plt.ylabel('True label')\n",
    "    plt.xlabel('Predict label')\n"
   ]
  },
  {
   "cell_type": "code",
   "execution_count": 14,
   "metadata": {},
   "outputs": [
    {
     "data": {
      "image/png": "[encoded data removed]",
      "text/plain": [
       "<matplotlib.figure.Figure at 0x7fa17e9677b8>"
      ]
     },
     "metadata": {},
     "output_type": "display_data"
    }
   ],
   "source": [
    "from sklearn.metrics import confusion_matrix\n",
    "import itertools\n",
    "\n",
    "confusion_mat = confusion_matrix(true_label, pred_label)\n",
    "plot_sonfusion_matrix(confusion_mat, classes = range(2))"
   ]
  },
  {
   "cell_type": "code",
   "execution_count": null,
   "metadata": {
    "collapsed": true
   },
   "outputs": [],
   "source": []
  },
  {
   "cell_type": "code",
   "execution_count": null,
   "metadata": {
    "collapsed": true
   },
   "outputs": [],
   "source": []
  }
 ],
 "metadata": {
  "kernelspec": {
   "display_name": "Python 3",
   "language": "python",
   "name": "python3"
  },
  "language_info": {
   "codemirror_mode": {
    "name": "ipython",
    "version": 3
   },
   "file_extension": ".py",
   "mimetype": "text/x-python",
   "name": "python",
   "nbconvert_exporter": "python",
   "pygments_lexer": "ipython3",
   "version": "3.5.4"
  }
 },
 "nbformat": 4,
 "nbformat_minor": 2
}
